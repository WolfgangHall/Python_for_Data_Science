{
 "cells": [
  {
   "cell_type": "markdown",
   "metadata": {},
   "source": [
    "## PCA"
   ]
  },
  {
   "cell_type": "markdown",
   "metadata": {},
   "source": [
    "* linear dimensionality reducting using SVD -> project data to a lower dimensional space\n",
    "* uses orthogonal transformation\n",
    "* convert possible correlated features into linearly uncorrelated features\n",
    "    * called principal components\n",
    "* \\# of principal components <= # of features\n",
    "* first pc explains the largest possible variance\n",
    "* each subsequent component has the highest variance subjected to the restriction that it must be orthogonal in the preceding components\n",
    "* collection of components -> called vectors\n",
    "* sensitive to scaling\n",
    "\n",
    "\n",
    "* component axes that maximizes variance"
   ]
  },
  {
   "cell_type": "markdown",
   "metadata": {},
   "source": [
    "## Linear Discriminant Analysis"
   ]
  },
  {
   "cell_type": "markdown",
   "metadata": {},
   "source": [
    "* used in the pre-processing step for pattern-classification and machine learning\n",
    "* project data into a lower-dimensional space with good class-separability in order to avoid overfitting (curse of dimensionality)\n",
    "    * reduces computational costs"
   ]
  },
  {
   "cell_type": "markdown",
   "metadata": {},
   "source": [
    "* locate the boundaries of clusters of classes\n",
    "* project data onto a line\n",
    "* a centroid will be allocated to each cluster or have a centroid nearby\n",
    "\n",
    "\n",
    "* component that maximizes class-separation"
   ]
  },
  {
   "cell_type": "markdown",
   "metadata": {},
   "source": [
    "## Other techniques"
   ]
  },
  {
   "cell_type": "markdown",
   "metadata": {},
   "source": [
    "* Multidimensional Scaling (MDS)\n",
    "    * seeks a low-dimensional representation of the data in which the distances respect well the distances in the original high-dimensional space"
   ]
  },
  {
   "cell_type": "markdown",
   "metadata": {},
   "source": [
    "* Isomap (Isometric Mapping)\n",
    "    * seeks a lower-dimensional embedding which maintains geodesic distances between all points"
   ]
  },
  {
   "cell_type": "markdown",
   "metadata": {},
   "source": [
    "* t-distributed stochastic Neighbor Embedding (t-SNE)\n",
    "    * non-linear dimensionality reduction technique\n",
    "    * well-suited for embedding high-dimensional data into a space of two or three dimensions -> can be visualized in scatter plot\n",
    "    * models each high-dimensional object by a 2 or 3 dimensional point in such a way that similar objets are modeled by nearby points and dissimilar objects are modeled by distant points"
   ]
  },
  {
   "cell_type": "code",
   "execution_count": null,
   "metadata": {
    "collapsed": true
   },
   "outputs": [],
   "source": []
  }
 ],
 "metadata": {
  "kernelspec": {
   "display_name": "Python 3",
   "language": "python",
   "name": "python3"
  },
  "language_info": {
   "codemirror_mode": {
    "name": "ipython",
    "version": 3
   },
   "file_extension": ".py",
   "mimetype": "text/x-python",
   "name": "python",
   "nbconvert_exporter": "python",
   "pygments_lexer": "ipython3",
   "version": "3.6.0"
  }
 },
 "nbformat": 4,
 "nbformat_minor": 2
}
