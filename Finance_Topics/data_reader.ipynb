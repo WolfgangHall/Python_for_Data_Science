{
 "cells": [
  {
   "cell_type": "code",
   "execution_count": 1,
   "metadata": {
    "collapsed": true
   },
   "outputs": [],
   "source": [
    "import pandas_datareader.data as web"
   ]
  },
  {
   "cell_type": "code",
   "execution_count": 2,
   "metadata": {
    "collapsed": true
   },
   "outputs": [],
   "source": [
    "import datetime"
   ]
  },
  {
   "cell_type": "code",
   "execution_count": 3,
   "metadata": {
    "collapsed": true
   },
   "outputs": [],
   "source": [
    "start = datetime.datetime(2015, 1, 1)\n",
    "end = datetime.datetime(2017, 1, 1)"
   ]
  },
  {
   "cell_type": "code",
   "execution_count": 4,
   "metadata": {
    "collapsed": true
   },
   "outputs": [],
   "source": [
    "facebook = web.DataReader('FB', 'google', start, end)"
   ]
  },
  {
   "cell_type": "code",
   "execution_count": 5,
   "metadata": {
    "collapsed": false
   },
   "outputs": [
    {
     "data": {
      "text/html": [
       "<div>\n",
       "<table border=\"1\" class=\"dataframe\">\n",
       "  <thead>\n",
       "    <tr style=\"text-align: right;\">\n",
       "      <th></th>\n",
       "      <th>Open</th>\n",
       "      <th>High</th>\n",
       "      <th>Low</th>\n",
       "      <th>Close</th>\n",
       "      <th>Volume</th>\n",
       "    </tr>\n",
       "    <tr>\n",
       "      <th>Date</th>\n",
       "      <th></th>\n",
       "      <th></th>\n",
       "      <th></th>\n",
       "      <th></th>\n",
       "      <th></th>\n",
       "    </tr>\n",
       "  </thead>\n",
       "  <tbody>\n",
       "    <tr>\n",
       "      <th>2016-11-11</th>\n",
       "      <td>119.53</td>\n",
       "      <td>120.70</td>\n",
       "      <td>118.15</td>\n",
       "      <td>119.02</td>\n",
       "      <td>32840137</td>\n",
       "    </tr>\n",
       "    <tr>\n",
       "      <th>2016-11-14</th>\n",
       "      <td>119.13</td>\n",
       "      <td>119.13</td>\n",
       "      <td>113.55</td>\n",
       "      <td>115.08</td>\n",
       "      <td>51377040</td>\n",
       "    </tr>\n",
       "    <tr>\n",
       "      <th>2016-11-15</th>\n",
       "      <td>116.73</td>\n",
       "      <td>118.49</td>\n",
       "      <td>115.83</td>\n",
       "      <td>117.20</td>\n",
       "      <td>34681369</td>\n",
       "    </tr>\n",
       "    <tr>\n",
       "      <th>2016-11-16</th>\n",
       "      <td>114.48</td>\n",
       "      <td>117.88</td>\n",
       "      <td>114.21</td>\n",
       "      <td>116.34</td>\n",
       "      <td>32397947</td>\n",
       "    </tr>\n",
       "    <tr>\n",
       "      <th>2016-11-17</th>\n",
       "      <td>116.81</td>\n",
       "      <td>117.79</td>\n",
       "      <td>116.01</td>\n",
       "      <td>117.79</td>\n",
       "      <td>18556202</td>\n",
       "    </tr>\n",
       "  </tbody>\n",
       "</table>\n",
       "</div>"
      ],
      "text/plain": [
       "              Open    High     Low   Close    Volume\n",
       "Date                                                \n",
       "2016-11-11  119.53  120.70  118.15  119.02  32840137\n",
       "2016-11-14  119.13  119.13  113.55  115.08  51377040\n",
       "2016-11-15  116.73  118.49  115.83  117.20  34681369\n",
       "2016-11-16  114.48  117.88  114.21  116.34  32397947\n",
       "2016-11-17  116.81  117.79  116.01  117.79  18556202"
      ]
     },
     "execution_count": 5,
     "metadata": {},
     "output_type": "execute_result"
    }
   ],
   "source": [
    "facebook.head()"
   ]
  },
  {
   "cell_type": "code",
   "execution_count": 6,
   "metadata": {
    "collapsed": true
   },
   "outputs": [],
   "source": [
    "from pandas_datareader.data import Options"
   ]
  },
  {
   "cell_type": "code",
   "execution_count": 7,
   "metadata": {
    "collapsed": true
   },
   "outputs": [],
   "source": [
    "fb_options = Options('FB', 'google')"
   ]
  },
  {
   "cell_type": "code",
   "execution_count": 8,
   "metadata": {
    "collapsed": true
   },
   "outputs": [],
   "source": [
    "options_df = fb_options.get_options_data(expiry=fb_options.expiry_dates[0])"
   ]
  },
  {
   "cell_type": "code",
   "execution_count": 9,
   "metadata": {
    "collapsed": false
   },
   "outputs": [
    {
     "data": {
      "text/html": [
       "<div>\n",
       "<table border=\"1\" class=\"dataframe\">\n",
       "  <thead>\n",
       "    <tr style=\"text-align: right;\">\n",
       "      <th></th>\n",
       "      <th></th>\n",
       "      <th></th>\n",
       "      <th></th>\n",
       "      <th>Last</th>\n",
       "      <th>Bid</th>\n",
       "      <th>Ask</th>\n",
       "      <th>Chg</th>\n",
       "      <th>PctChg</th>\n",
       "      <th>Vol</th>\n",
       "      <th>Open_Int</th>\n",
       "      <th>Root</th>\n",
       "      <th>Underlying_Price</th>\n",
       "      <th>Quote_Time</th>\n",
       "    </tr>\n",
       "    <tr>\n",
       "      <th>Strike</th>\n",
       "      <th>Expiry</th>\n",
       "      <th>Type</th>\n",
       "      <th>Symbol</th>\n",
       "      <th></th>\n",
       "      <th></th>\n",
       "      <th></th>\n",
       "      <th></th>\n",
       "      <th></th>\n",
       "      <th></th>\n",
       "      <th></th>\n",
       "      <th></th>\n",
       "      <th></th>\n",
       "      <th></th>\n",
       "    </tr>\n",
       "  </thead>\n",
       "  <tbody>\n",
       "    <tr>\n",
       "      <th rowspan=\"2\" valign=\"top\">5.0</th>\n",
       "      <th rowspan=\"2\" valign=\"top\">2018-01-19</th>\n",
       "      <th>call</th>\n",
       "      <th>FB180119C00005000</th>\n",
       "      <td>174.80</td>\n",
       "      <td>174.00</td>\n",
       "      <td>174.60</td>\n",
       "      <td>0.0</td>\n",
       "      <td>0.0</td>\n",
       "      <td>NaN</td>\n",
       "      <td>8659.0</td>\n",
       "      <td>FB</td>\n",
       "      <td>179.3</td>\n",
       "      <td>2017-11-09 20:51:54.276293</td>\n",
       "    </tr>\n",
       "    <tr>\n",
       "      <th>put</th>\n",
       "      <th>FB180119P00005000</th>\n",
       "      <td>0.01</td>\n",
       "      <td>NaN</td>\n",
       "      <td>0.03</td>\n",
       "      <td>0.0</td>\n",
       "      <td>0.0</td>\n",
       "      <td>NaN</td>\n",
       "      <td>3053.0</td>\n",
       "      <td>FB</td>\n",
       "      <td>179.3</td>\n",
       "      <td>2017-11-09 20:51:54.276293</td>\n",
       "    </tr>\n",
       "    <tr>\n",
       "      <th rowspan=\"2\" valign=\"top\">10.0</th>\n",
       "      <th rowspan=\"2\" valign=\"top\">2018-01-19</th>\n",
       "      <th>call</th>\n",
       "      <th>FB180119C00010000</th>\n",
       "      <td>169.80</td>\n",
       "      <td>169.05</td>\n",
       "      <td>169.65</td>\n",
       "      <td>0.0</td>\n",
       "      <td>0.0</td>\n",
       "      <td>NaN</td>\n",
       "      <td>2691.0</td>\n",
       "      <td>FB</td>\n",
       "      <td>179.3</td>\n",
       "      <td>2017-11-09 20:51:54.276293</td>\n",
       "    </tr>\n",
       "    <tr>\n",
       "      <th>put</th>\n",
       "      <th>FB180119P00010000</th>\n",
       "      <td>0.01</td>\n",
       "      <td>NaN</td>\n",
       "      <td>0.01</td>\n",
       "      <td>0.0</td>\n",
       "      <td>0.0</td>\n",
       "      <td>NaN</td>\n",
       "      <td>2056.0</td>\n",
       "      <td>FB</td>\n",
       "      <td>179.3</td>\n",
       "      <td>2017-11-09 20:51:54.276293</td>\n",
       "    </tr>\n",
       "    <tr>\n",
       "      <th>15.0</th>\n",
       "      <th>2018-01-19</th>\n",
       "      <th>call</th>\n",
       "      <th>FB180119C00015000</th>\n",
       "      <td>165.00</td>\n",
       "      <td>164.05</td>\n",
       "      <td>164.65</td>\n",
       "      <td>0.0</td>\n",
       "      <td>0.0</td>\n",
       "      <td>NaN</td>\n",
       "      <td>250.0</td>\n",
       "      <td>FB</td>\n",
       "      <td>179.3</td>\n",
       "      <td>2017-11-09 20:51:54.276293</td>\n",
       "    </tr>\n",
       "  </tbody>\n",
       "</table>\n",
       "</div>"
      ],
      "text/plain": [
       "                                            Last     Bid     Ask  Chg  PctChg  \\\n",
       "Strike Expiry     Type Symbol                                                   \n",
       "5.0    2018-01-19 call FB180119C00005000  174.80  174.00  174.60  0.0     0.0   \n",
       "                  put  FB180119P00005000    0.01     NaN    0.03  0.0     0.0   \n",
       "10.0   2018-01-19 call FB180119C00010000  169.80  169.05  169.65  0.0     0.0   \n",
       "                  put  FB180119P00010000    0.01     NaN    0.01  0.0     0.0   \n",
       "15.0   2018-01-19 call FB180119C00015000  165.00  164.05  164.65  0.0     0.0   \n",
       "\n",
       "                                          Vol  Open_Int Root  \\\n",
       "Strike Expiry     Type Symbol                                  \n",
       "5.0    2018-01-19 call FB180119C00005000  NaN    8659.0   FB   \n",
       "                  put  FB180119P00005000  NaN    3053.0   FB   \n",
       "10.0   2018-01-19 call FB180119C00010000  NaN    2691.0   FB   \n",
       "                  put  FB180119P00010000  NaN    2056.0   FB   \n",
       "15.0   2018-01-19 call FB180119C00015000  NaN     250.0   FB   \n",
       "\n",
       "                                          Underlying_Price  \\\n",
       "Strike Expiry     Type Symbol                                \n",
       "5.0    2018-01-19 call FB180119C00005000             179.3   \n",
       "                  put  FB180119P00005000             179.3   \n",
       "10.0   2018-01-19 call FB180119C00010000             179.3   \n",
       "                  put  FB180119P00010000             179.3   \n",
       "15.0   2018-01-19 call FB180119C00015000             179.3   \n",
       "\n",
       "                                                         Quote_Time  \n",
       "Strike Expiry     Type Symbol                                        \n",
       "5.0    2018-01-19 call FB180119C00005000 2017-11-09 20:51:54.276293  \n",
       "                  put  FB180119P00005000 2017-11-09 20:51:54.276293  \n",
       "10.0   2018-01-19 call FB180119C00010000 2017-11-09 20:51:54.276293  \n",
       "                  put  FB180119P00010000 2017-11-09 20:51:54.276293  \n",
       "15.0   2018-01-19 call FB180119C00015000 2017-11-09 20:51:54.276293  "
      ]
     },
     "execution_count": 9,
     "metadata": {},
     "output_type": "execute_result"
    }
   ],
   "source": [
    "options_df.head()"
   ]
  },
  {
   "cell_type": "code",
   "execution_count": null,
   "metadata": {
    "collapsed": true
   },
   "outputs": [],
   "source": []
  }
 ],
 "metadata": {
  "kernelspec": {
   "display_name": "Python 3",
   "language": "python",
   "name": "python3"
  },
  "language_info": {
   "codemirror_mode": {
    "name": "ipython",
    "version": 3
   },
   "file_extension": ".py",
   "mimetype": "text/x-python",
   "name": "python",
   "nbconvert_exporter": "python",
   "pygments_lexer": "ipython3",
   "version": "3.6.0"
  }
 },
 "nbformat": 4,
 "nbformat_minor": 2
}
