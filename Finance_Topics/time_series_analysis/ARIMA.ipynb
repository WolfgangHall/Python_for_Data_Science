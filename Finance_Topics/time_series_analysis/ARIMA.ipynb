{
 "cells": [
  {
   "cell_type": "markdown",
   "metadata": {},
   "source": [
    "Auto Regressive Integrated Moving Averages\n",
    "\n",
    "    - often don't work well with historical stock data\n",
    "    \n",
    "    - generalization of ARMA model\n",
    "    \n",
    "    - both models are fitted to time series data to better understand the data or to predict future points in the series (forecasting)\n",
    "    \n",
    "    2 types\n",
    "        - seasonal ARIMA\n",
    "        - non-seasonal ARIMA\n",
    "        \n",
    "    - ARIMA models are applied in some casess where data show evidence of non-stationarity, where an initial differencing step can be applied one or more times to eliminate the non-stationarity\n",
    "    \n",
    "\n",
    "Non Seasonal ARIMA\n",
    "\n",
    "    - generally denoted ARIMA(p,d,q) -> p, d, q are non-negative integers\n",
    "    \n",
    "    p -> Autoregression\n",
    "        - basic regression task\n",
    "        \n",
    "    d -> integrated\n",
    "        - differencing of observations\n",
    "        \n",
    "    q -> moving average\n",
    "        - uses dependency between observation and a residual error from a moving average model applied to lagged observations\n",
    "        \n",
    "        \n",
    "Stationary vs Non-Stationary\n",
    "    - stationary series has constant mean and variance over time\n",
    "    - stationary data allows our model to predict that the mean and variance will be the same in future periods\n",
    "    \n",
    "    - covariance should not be a function of time\n",
    "        - bunching over time, how fast the variance changes\n",
    "        \n",
    "        \n",
    "    - Augmented Dickey-Fuller test -> tests stationarity\n",
    "    \n",
    "    - if the data is not stationary, you need to transform it to be stationary\n",
    "        - can be done through differencing\n",
    "        - each differencing step comes at the cost of losing a row of data\n",
    "        \n",
    "        - can difference by season\n",
    "            - ex. month data with yearly seasonality\n",
    "            - difference time by a time unit of 12, instead of 1\n",
    "            \n",
    "        - can combine methods\n",
    "            - taking seasonal difference of the first difference"
   ]
  },
  {
   "cell_type": "code",
   "execution_count": null,
   "metadata": {
    "collapsed": true
   },
   "outputs": [],
   "source": []
  }
 ],
 "metadata": {
  "kernelspec": {
   "display_name": "Python 3",
   "language": "python",
   "name": "python3"
  },
  "language_info": {
   "codemirror_mode": {
    "name": "ipython",
    "version": 3
   },
   "file_extension": ".py",
   "mimetype": "text/x-python",
   "name": "python",
   "nbconvert_exporter": "python",
   "pygments_lexer": "ipython3",
   "version": "3.6.0"
  }
 },
 "nbformat": 4,
 "nbformat_minor": 2
}
