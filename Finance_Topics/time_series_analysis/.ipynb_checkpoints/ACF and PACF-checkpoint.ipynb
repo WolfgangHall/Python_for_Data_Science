{
 "cells": [
  {
   "cell_type": "markdown",
   "metadata": {},
   "source": [
    "autocorrelation plot\n",
    "    -> shows the correlation of the series with itself\n",
    "    - lagged by x time units\n",
    "    \n",
    "    - y axis is correlation\n",
    "    - x axis is the number of units of lag\n",
    "    \n",
    "    - time series length, T\n",
    "    - copy T\n",
    "    - delete first observation of copy 1\n",
    "    - delete second observation of copy 2\n",
    "    \n",
    "    - produces 2 time series of T-1\n",
    "    - calculate correlation coefficient\n",
    "        - value of the vertical ais at x=1 in the plots\n",
    "        - reps correlation of the series lagged by one time unit\n",
    "        \n",
    "    - common plots to see\n",
    "        - gradual decline\n",
    "        - sharp drop off\n",
    "        \n",
    "    - figure out where to use AR or MA components or both (less common)\n",
    "    - figure out how many lags to use\n",
    "    \n",
    "    - will end up setting values for p and q\n",
    "    \n",
    "    \n",
    "    - if autocorrelation plot shows positive correlation at the first lag\n",
    "        -suggests to use AR terms in relation to the lag\n",
    "        \n",
    "    - if ac plots shows negative correlation\n",
    "        - suggests to use MA terms\n",
    "        \n",
    "        \n",
    "    - p: # of lag observations included\n",
    "    - d: # of times that the raw observations are differenced\n",
    "    - q: size of the moving average window, order of MA\n",
    "    \n",
    "    \n",
    "    partial correlation\n",
    "        - conditional correlation\n",
    "        - correlation between two variables under assumption that we know and take into account the values of some other set of variables\n",
    "        \n",
    "        \n",
    "ID of an AR model is best done with PACF\n",
    "\n",
    "ID of an MA model is often best done with ACF"
   ]
  }
 ],
 "metadata": {
  "kernelspec": {
   "display_name": "Python 3",
   "language": "python",
   "name": "python3"
  },
  "language_info": {
   "codemirror_mode": {
    "name": "ipython",
    "version": 3
   },
   "file_extension": ".py",
   "mimetype": "text/x-python",
   "name": "python",
   "nbconvert_exporter": "python",
   "pygments_lexer": "ipython3",
   "version": "3.6.0"
  }
 },
 "nbformat": 4,
 "nbformat_minor": 2
}
