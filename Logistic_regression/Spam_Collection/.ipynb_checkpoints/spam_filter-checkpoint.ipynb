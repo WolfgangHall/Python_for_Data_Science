{
 "cells": [
  {
   "cell_type": "code",
   "execution_count": 52,
   "metadata": {
    "collapsed": true
   },
   "outputs": [],
   "source": [
    "import pandas as pd\n",
    "import numpy as np\n",
    "\n",
    "import matplotlib.pyplot as plt"
   ]
  },
  {
   "cell_type": "code",
   "execution_count": 4,
   "metadata": {
    "collapsed": true
   },
   "outputs": [],
   "source": [
    "df = pd.read_csv('SMSSpamCollection', delimiter='\\t', header=None)"
   ]
  },
  {
   "cell_type": "code",
   "execution_count": 5,
   "metadata": {
    "collapsed": false
   },
   "outputs": [
    {
     "data": {
      "text/html": [
       "<div>\n",
       "<style>\n",
       "    .dataframe thead tr:only-child th {\n",
       "        text-align: right;\n",
       "    }\n",
       "\n",
       "    .dataframe thead th {\n",
       "        text-align: left;\n",
       "    }\n",
       "\n",
       "    .dataframe tbody tr th {\n",
       "        vertical-align: top;\n",
       "    }\n",
       "</style>\n",
       "<table border=\"1\" class=\"dataframe\">\n",
       "  <thead>\n",
       "    <tr style=\"text-align: right;\">\n",
       "      <th></th>\n",
       "      <th>0</th>\n",
       "      <th>1</th>\n",
       "    </tr>\n",
       "  </thead>\n",
       "  <tbody>\n",
       "    <tr>\n",
       "      <th>0</th>\n",
       "      <td>ham</td>\n",
       "      <td>Go until jurong point, crazy.. Available only ...</td>\n",
       "    </tr>\n",
       "    <tr>\n",
       "      <th>1</th>\n",
       "      <td>ham</td>\n",
       "      <td>Ok lar... Joking wif u oni...</td>\n",
       "    </tr>\n",
       "    <tr>\n",
       "      <th>2</th>\n",
       "      <td>spam</td>\n",
       "      <td>Free entry in 2 a wkly comp to win FA Cup fina...</td>\n",
       "    </tr>\n",
       "    <tr>\n",
       "      <th>3</th>\n",
       "      <td>ham</td>\n",
       "      <td>U dun say so early hor... U c already then say...</td>\n",
       "    </tr>\n",
       "    <tr>\n",
       "      <th>4</th>\n",
       "      <td>ham</td>\n",
       "      <td>Nah I don't think he goes to usf, he lives aro...</td>\n",
       "    </tr>\n",
       "  </tbody>\n",
       "</table>\n",
       "</div>"
      ],
      "text/plain": [
       "      0                                                  1\n",
       "0   ham  Go until jurong point, crazy.. Available only ...\n",
       "1   ham                      Ok lar... Joking wif u oni...\n",
       "2  spam  Free entry in 2 a wkly comp to win FA Cup fina...\n",
       "3   ham  U dun say so early hor... U c already then say...\n",
       "4   ham  Nah I don't think he goes to usf, he lives aro..."
      ]
     },
     "execution_count": 5,
     "metadata": {},
     "output_type": "execute_result"
    }
   ],
   "source": [
    "df.head()"
   ]
  },
  {
   "cell_type": "code",
   "execution_count": 6,
   "metadata": {
    "collapsed": false
   },
   "outputs": [
    {
     "name": "stdout",
     "output_type": "stream",
     "text": [
      "Number of spam messages: 747\n"
     ]
    }
   ],
   "source": [
    "print('Number of spam messages:', df[df[0] == 'spam'][0].count())"
   ]
  },
  {
   "cell_type": "code",
   "execution_count": 7,
   "metadata": {
    "collapsed": false
   },
   "outputs": [
    {
     "name": "stdout",
     "output_type": "stream",
     "text": [
      "Number of ham messages: 4825\n"
     ]
    }
   ],
   "source": [
    "print('Number of ham messages:', df[df[0] == 'ham'][0].count())"
   ]
  },
  {
   "cell_type": "code",
   "execution_count": 10,
   "metadata": {
    "collapsed": true
   },
   "outputs": [],
   "source": [
    "from sklearn.feature_extraction.text import TfidfVectorizer\n",
    "from sklearn.linear_model.logistic import LogisticRegression\n",
    "from sklearn.model_selection import cross_val_score, train_test_split"
   ]
  },
  {
   "cell_type": "code",
   "execution_count": 39,
   "metadata": {
    "collapsed": true
   },
   "outputs": [],
   "source": [
    "X_train_raw, X_test_raw, y_train, y_test = train_test_split(df[1], df[0])"
   ]
  },
  {
   "cell_type": "code",
   "execution_count": 34,
   "metadata": {
    "collapsed": true
   },
   "outputs": [],
   "source": [
    "vectorizer = TfidfVectorizer()\n",
    "X_train = vectorizer.fit_transform(X_train_raw)\n",
    "X_test = vectorizer.transform(X_test_raw)"
   ]
  },
  {
   "cell_type": "code",
   "execution_count": 35,
   "metadata": {
    "collapsed": false
   },
   "outputs": [],
   "source": [
    "classifier = LogisticRegression()\n",
    "classifier.fit(X_train, y_train)\n",
    "predictions = classifier.predict(X_test)"
   ]
  },
  {
   "cell_type": "code",
   "execution_count": 50,
   "metadata": {
    "collapsed": false
   },
   "outputs": [
    {
     "name": "stdout",
     "output_type": "stream",
     "text": [
      "ham   (0, 7463)\t0.0841049593667\n",
      "  (0, 7229)\t0.205643468282\n",
      "  (0, 7186)\t0.138348255405\n",
      "  (0, 6901)\t0.28733066375\n",
      "  (0, 6811)\t0.241833820176\n",
      "  (0, 6699)\t0.325165986997\n",
      "  (0, 6068)\t0.133299501103\n",
      "  (0, 5827)\t0.205643468282\n",
      "  (0, 5742)\t0.321396011868\n",
      "  (0, 5459)\t0.306321855187\n",
      "  (0, 5436)\t0.274821485741\n",
      "  (0, 5395)\t0.179874027229\n",
      "  (0, 5076)\t0.174143098837\n",
      "  (0, 4195)\t0.183791061986\n",
      "  (0, 2322)\t0.138213309904\n",
      "  (0, 2185)\t0.254782973081\n",
      "  (0, 2071)\t0.211929294212\n",
      "  (0, 1567)\t0.124511170352\n",
      "  (0, 1535)\t0.131457517217\n",
      "  (0, 958)\t0.306321855187\n",
      "ham   (0, 6601)\t0.368254269849\n",
      "  (0, 4355)\t0.59602472258\n",
      "  (0, 3536)\t0.258523040216\n",
      "  (0, 1244)\t0.329409953645\n",
      "  (0, 1146)\t0.57775275242\n",
      "ham   (0, 7463)\t0.139243576544\n",
      "  (0, 7309)\t0.433038912423\n",
      "  (0, 7244)\t0.245940178319\n",
      "  (0, 7222)\t0.296445351286\n",
      "  (0, 6699)\t0.134585627711\n",
      "  (0, 6068)\t0.220689712294\n",
      "  (0, 4767)\t0.532100966654\n",
      "  (0, 3274)\t0.390375207871\n",
      "  (0, 3136)\t0.309020190887\n",
      "  (0, 1026)\t0.216534405582\n",
      "ham   (0, 7162)\t0.239149777281\n",
      "  (0, 5168)\t0.412481399804\n",
      "  (0, 4737)\t0.180781572205\n",
      "  (0, 3906)\t0.308784757045\n",
      "  (0, 3369)\t0.248280959218\n",
      "  (0, 3337)\t0.302346732319\n",
      "  (0, 2935)\t0.450368848217\n",
      "  (0, 2719)\t0.39675668796\n",
      "  (0, 1438)\t0.362396917302\n",
      "ham   (0, 6699)\t0.22609640437\n",
      "  (0, 5201)\t0.893900168752\n",
      "  (0, 1244)\t0.38706963745\n"
     ]
    }
   ],
   "source": [
    "for i, prediction in enumerate(predictions[:5]):\n",
    "    print('{} {}'.format(prediction, X_test[i]))"
   ]
  }
 ],
 "metadata": {
  "kernelspec": {
   "display_name": "Python 3",
   "language": "python",
   "name": "python3"
  },
  "language_info": {
   "codemirror_mode": {
    "name": "ipython",
    "version": 3
   },
   "file_extension": ".py",
   "mimetype": "text/x-python",
   "name": "python",
   "nbconvert_exporter": "python",
   "pygments_lexer": "ipython3",
   "version": "3.6.0"
  }
 },
 "nbformat": 4,
 "nbformat_minor": 2
}
