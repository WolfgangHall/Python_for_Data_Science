{
 "cells": [
  {
   "cell_type": "code",
   "execution_count": 1,
   "metadata": {
    "collapsed": true
   },
   "outputs": [],
   "source": [
    "import pandas as pd\n",
    "import numpy as np\n",
    "\n",
    "import matplotlib.pyplot as plt\n",
    "import seaborn as sns\n",
    "%matplotlib inline"
   ]
  },
  {
   "cell_type": "code",
   "execution_count": 2,
   "metadata": {
    "collapsed": true
   },
   "outputs": [],
   "source": [
    "df = pd.read_csv('DemographicData.csv')"
   ]
  },
  {
   "cell_type": "code",
   "execution_count": 3,
   "metadata": {
    "collapsed": false
   },
   "outputs": [
    {
     "data": {
      "text/html": [
       "<div>\n",
       "<style>\n",
       "    .dataframe thead tr:only-child th {\n",
       "        text-align: right;\n",
       "    }\n",
       "\n",
       "    .dataframe thead th {\n",
       "        text-align: left;\n",
       "    }\n",
       "\n",
       "    .dataframe tbody tr th {\n",
       "        vertical-align: top;\n",
       "    }\n",
       "</style>\n",
       "<table border=\"1\" class=\"dataframe\">\n",
       "  <thead>\n",
       "    <tr style=\"text-align: right;\">\n",
       "      <th></th>\n",
       "      <th>Country Name</th>\n",
       "      <th>Country Code</th>\n",
       "      <th>Birth rate</th>\n",
       "      <th>Internet users</th>\n",
       "      <th>Income Group</th>\n",
       "    </tr>\n",
       "  </thead>\n",
       "  <tbody>\n",
       "    <tr>\n",
       "      <th>0</th>\n",
       "      <td>Aruba</td>\n",
       "      <td>ABW</td>\n",
       "      <td>10.244</td>\n",
       "      <td>78.9</td>\n",
       "      <td>High income</td>\n",
       "    </tr>\n",
       "    <tr>\n",
       "      <th>1</th>\n",
       "      <td>Afghanistan</td>\n",
       "      <td>AFG</td>\n",
       "      <td>35.253</td>\n",
       "      <td>5.9</td>\n",
       "      <td>Low income</td>\n",
       "    </tr>\n",
       "    <tr>\n",
       "      <th>2</th>\n",
       "      <td>Angola</td>\n",
       "      <td>AGO</td>\n",
       "      <td>45.985</td>\n",
       "      <td>19.1</td>\n",
       "      <td>Upper middle income</td>\n",
       "    </tr>\n",
       "    <tr>\n",
       "      <th>3</th>\n",
       "      <td>Albania</td>\n",
       "      <td>ALB</td>\n",
       "      <td>12.877</td>\n",
       "      <td>57.2</td>\n",
       "      <td>Upper middle income</td>\n",
       "    </tr>\n",
       "    <tr>\n",
       "      <th>4</th>\n",
       "      <td>United Arab Emirates</td>\n",
       "      <td>ARE</td>\n",
       "      <td>11.044</td>\n",
       "      <td>88.0</td>\n",
       "      <td>High income</td>\n",
       "    </tr>\n",
       "  </tbody>\n",
       "</table>\n",
       "</div>"
      ],
      "text/plain": [
       "           Country Name Country Code  Birth rate  Internet users  \\\n",
       "0                 Aruba          ABW      10.244            78.9   \n",
       "1           Afghanistan          AFG      35.253             5.9   \n",
       "2                Angola          AGO      45.985            19.1   \n",
       "3               Albania          ALB      12.877            57.2   \n",
       "4  United Arab Emirates          ARE      11.044            88.0   \n",
       "\n",
       "          Income Group  \n",
       "0          High income  \n",
       "1           Low income  \n",
       "2  Upper middle income  \n",
       "3  Upper middle income  \n",
       "4          High income  "
      ]
     },
     "execution_count": 3,
     "metadata": {},
     "output_type": "execute_result"
    }
   ],
   "source": [
    "df.head()"
   ]
  },
  {
   "cell_type": "code",
   "execution_count": 21,
   "metadata": {
    "collapsed": false
   },
   "outputs": [
    {
     "data": {
      "text/plain": [
       "<matplotlib.axes._subplots.AxesSubplot at 0x2a2a841f3c8>"
      ]
     },
     "execution_count": 21,
     "metadata": {},
     "output_type": "execute_result"
    },
    {
     "data": {
      "image/png": "[encoded data removed]",
      "text/plain": [
       "<matplotlib.figure.Figure at 0x2a2a841f6a0>"
      ]
     },
     "metadata": {},
     "output_type": "display_data"
    }
   ],
   "source": [
    "plt.figure(figsize=(8, 4))\n",
    "plt.ylim(-5, 100)\n",
    "sns.regplot(df['Birth rate'], df['Internet users'])"
   ]
  },
  {
   "cell_type": "code",
   "execution_count": 33,
   "metadata": {
    "collapsed": false
   },
   "outputs": [],
   "source": [
    "X = df[['Birth rate', 'Internet users']]\n",
    "y = df['Income Group']"
   ]
  },
  {
   "cell_type": "markdown",
   "metadata": {},
   "source": [
    "# Naive Bayes"
   ]
  },
  {
   "cell_type": "code",
   "execution_count": 41,
   "metadata": {
    "collapsed": false
   },
   "outputs": [],
   "source": [
    "from sklearn.naive_bayes import GaussianNB"
   ]
  },
  {
   "cell_type": "code",
   "execution_count": 46,
   "metadata": {
    "collapsed": true
   },
   "outputs": [],
   "source": [
    "gnb = GaussianNB()"
   ]
  },
  {
   "cell_type": "code",
   "execution_count": 47,
   "metadata": {
    "collapsed": true
   },
   "outputs": [],
   "source": [
    "y_pred = gnb.fit(X, y).predict(X)"
   ]
  },
  {
   "cell_type": "code",
   "execution_count": 48,
   "metadata": {
    "collapsed": false
   },
   "outputs": [
    {
     "data": {
      "text/plain": [
       "(195, 2)"
      ]
     },
     "execution_count": 48,
     "metadata": {},
     "output_type": "execute_result"
    }
   ],
   "source": [
    "X.shape"
   ]
  },
  {
   "cell_type": "code",
   "execution_count": 69,
   "metadata": {
    "collapsed": false
   },
   "outputs": [
    {
     "name": "stdout",
     "output_type": "stream",
     "text": [
      "Number of errors: 54\n"
     ]
    }
   ],
   "source": [
    "print('Number of errors: {}'.format((y != y_pred).sum()))"
   ]
  },
  {
   "cell_type": "code",
   "execution_count": 72,
   "metadata": {
    "collapsed": false
   },
   "outputs": [
    {
     "data": {
      "text/plain": [
       "0.72307692307692306"
      ]
     },
     "execution_count": 72,
     "metadata": {},
     "output_type": "execute_result"
    }
   ],
   "source": [
    "gnb.score(X, y)"
   ]
  },
  {
   "cell_type": "markdown",
   "metadata": {},
   "source": [
    "# K Neighbors"
   ]
  },
  {
   "cell_type": "code",
   "execution_count": 75,
   "metadata": {
    "collapsed": true
   },
   "outputs": [],
   "source": [
    "from sklearn.neighbors import KNeighborsClassifier"
   ]
  },
  {
   "cell_type": "code",
   "execution_count": 90,
   "metadata": {
    "collapsed": true
   },
   "outputs": [],
   "source": [
    "knn = KNeighborsClassifier()"
   ]
  },
  {
   "cell_type": "code",
   "execution_count": 91,
   "metadata": {
    "collapsed": false
   },
   "outputs": [],
   "source": [
    "predictions = knn.fit(X, y).predict(X)"
   ]
  },
  {
   "cell_type": "code",
   "execution_count": 92,
   "metadata": {
    "collapsed": false
   },
   "outputs": [
    {
     "name": "stdout",
     "output_type": "stream",
     "text": [
      "Mean accuracy of the test data: 0.82\n"
     ]
    }
   ],
   "source": [
    "print('Mean accuracy of the test data: {:.2f}'.format(knn.score(X, y)))"
   ]
  },
  {
   "cell_type": "markdown",
   "metadata": {},
   "source": [
    "# LDA"
   ]
  },
  {
   "cell_type": "code",
   "execution_count": 79,
   "metadata": {
    "collapsed": true
   },
   "outputs": [],
   "source": [
    "from sklearn.discriminant_analysis import LinearDiscriminantAnalysis"
   ]
  },
  {
   "cell_type": "code",
   "execution_count": 80,
   "metadata": {
    "collapsed": true
   },
   "outputs": [],
   "source": [
    "clf = LinearDiscriminantAnalysis()"
   ]
  },
  {
   "cell_type": "code",
   "execution_count": 85,
   "metadata": {
    "collapsed": false
   },
   "outputs": [],
   "source": [
    "lda_predictions = clf.fit(X, y).predict(X)"
   ]
  },
  {
   "cell_type": "code",
   "execution_count": 102,
   "metadata": {
    "collapsed": false
   },
   "outputs": [
    {
     "data": {
      "text/plain": [
       "0.76410256410256405"
      ]
     },
     "execution_count": 102,
     "metadata": {},
     "output_type": "execute_result"
    }
   ],
   "source": [
    "clf.score(X, y)"
   ]
  },
  {
   "cell_type": "markdown",
   "metadata": {},
   "source": [
    "# Decision Trees"
   ]
  },
  {
   "cell_type": "code",
   "execution_count": 98,
   "metadata": {
    "collapsed": true
   },
   "outputs": [],
   "source": [
    "from sklearn import tree"
   ]
  },
  {
   "cell_type": "code",
   "execution_count": 119,
   "metadata": {
    "collapsed": true
   },
   "outputs": [],
   "source": [
    "tree_clf = tree.DecisionTreeClassifier()"
   ]
  },
  {
   "cell_type": "code",
   "execution_count": 120,
   "metadata": {
    "collapsed": true
   },
   "outputs": [],
   "source": [
    "from sklearn.model_selection import train_test_split"
   ]
  },
  {
   "cell_type": "code",
   "execution_count": 127,
   "metadata": {
    "collapsed": true
   },
   "outputs": [],
   "source": [
    "X_train, X_test, y_train, y_test = train_test_split(X, y, test_size=0.3, random_state=42)"
   ]
  },
  {
   "cell_type": "code",
   "execution_count": 128,
   "metadata": {
    "collapsed": false
   },
   "outputs": [
    {
     "data": {
      "text/plain": [
       "array(['Lower middle income', 'Upper middle income', 'Lower middle income',\n",
       "       'High income', 'High income', 'Upper middle income', 'Low income',\n",
       "       'Lower middle income', 'Upper middle income', 'Low income',\n",
       "       'Upper middle income', 'High income', 'Lower middle income',\n",
       "       'High income', 'Lower middle income', 'Low income',\n",
       "       'Upper middle income', 'Upper middle income', 'Low income',\n",
       "       'Lower middle income', 'Low income', 'Upper middle income',\n",
       "       'Low income', 'High income', 'Lower middle income', 'Low income',\n",
       "       'Low income', 'Upper middle income', 'High income',\n",
       "       'Upper middle income', 'High income', 'Upper middle income',\n",
       "       'Upper middle income', 'Low income', 'Low income',\n",
       "       'Upper middle income', 'High income', 'Low income',\n",
       "       'Upper middle income', 'High income', 'Upper middle income',\n",
       "       'Upper middle income', 'Low income', 'High income', 'High income',\n",
       "       'High income', 'Lower middle income', 'Lower middle income',\n",
       "       'High income', 'Low income', 'Low income', 'Low income',\n",
       "       'High income', 'High income', 'Low income', 'Upper middle income',\n",
       "       'Upper middle income', 'Upper middle income', 'Upper middle income'], dtype=object)"
      ]
     },
     "execution_count": 128,
     "metadata": {},
     "output_type": "execute_result"
    }
   ],
   "source": [
    "tree_clf.fit(X_train, y_train).predict(X_test)"
   ]
  },
  {
   "cell_type": "code",
   "execution_count": 129,
   "metadata": {
    "collapsed": false
   },
   "outputs": [
    {
     "data": {
      "text/plain": [
       "0.90256410256410258"
      ]
     },
     "execution_count": 129,
     "metadata": {},
     "output_type": "execute_result"
    }
   ],
   "source": [
    "tree_clf.score(X, y)"
   ]
  },
  {
   "cell_type": "markdown",
   "metadata": {},
   "source": [
    "# Logistic Regression"
   ]
  },
  {
   "cell_type": "code",
   "execution_count": 104,
   "metadata": {
    "collapsed": true
   },
   "outputs": [],
   "source": [
    "from sklearn.linear_model import LogisticRegression"
   ]
  },
  {
   "cell_type": "code",
   "execution_count": 116,
   "metadata": {
    "collapsed": true
   },
   "outputs": [],
   "source": [
    "LR = LogisticRegression(multi_class='multinomial', solver='newton-cg')"
   ]
  },
  {
   "cell_type": "code",
   "execution_count": 117,
   "metadata": {
    "collapsed": false
   },
   "outputs": [
    {
     "data": {
      "text/plain": [
       "array(['High income', 'Low income', 'Lower middle income', 'High income',\n",
       "       'High income', 'High income', 'Upper middle income', 'High income',\n",
       "       'High income', 'High income', 'High income', 'Low income',\n",
       "       'High income', 'Low income', 'Low income', 'Lower middle income',\n",
       "       'Upper middle income', 'High income', 'High income',\n",
       "       'Upper middle income', 'Upper middle income', 'Upper middle income',\n",
       "       'High income', 'Upper middle income', 'Upper middle income',\n",
       "       'High income', 'High income', 'Upper middle income',\n",
       "       'Lower middle income', 'Low income', 'High income', 'High income',\n",
       "       'High income', 'Upper middle income', 'Low income', 'Low income',\n",
       "       'Low income', 'Upper middle income', 'Low income',\n",
       "       'Upper middle income', 'Upper middle income', 'Upper middle income',\n",
       "       'High income', 'High income', 'High income', 'High income',\n",
       "       'Lower middle income', 'High income', 'Upper middle income',\n",
       "       'Lower middle income', 'Upper middle income', 'Lower middle income',\n",
       "       'Low income', 'High income', 'High income', 'Low income',\n",
       "       'High income', 'Upper middle income', 'High income',\n",
       "       'Lower middle income', 'Lower middle income', 'High income',\n",
       "       'Upper middle income', 'Lower middle income', 'Low income',\n",
       "       'Low income', 'Low income', 'Lower middle income', 'High income',\n",
       "       'Upper middle income', 'High income', 'Lower middle income',\n",
       "       'High income', 'Upper middle income', 'High income',\n",
       "       'Lower middle income', 'High income', 'Lower middle income',\n",
       "       'High income', 'Lower middle income', 'Lower middle income',\n",
       "       'High income', 'Upper middle income', 'Lower middle income',\n",
       "       'High income', 'High income', 'High income', 'Upper middle income',\n",
       "       'Upper middle income', 'High income', 'High income',\n",
       "       'Lower middle income', 'Lower middle income', 'Lower middle income',\n",
       "       'Lower middle income', 'High income', 'High income',\n",
       "       'Lower middle income', 'High income', 'Low income',\n",
       "       'Lower middle income', 'Upper middle income', 'High income',\n",
       "       'Lower middle income', 'Lower middle income', 'High income',\n",
       "       'High income', 'High income', 'High income', 'High income',\n",
       "       'Upper middle income', 'Low income', 'Upper middle income',\n",
       "       'Upper middle income', 'High income', 'Low income', 'High income',\n",
       "       'Lower middle income', 'High income', 'Lower middle income',\n",
       "       'Low income', 'Low income', 'Upper middle income', 'Low income',\n",
       "       'High income', 'Lower middle income', 'High income', 'Low income',\n",
       "       'Lower middle income', 'Lower middle income', 'High income',\n",
       "       'High income', 'Lower middle income', 'High income', 'High income',\n",
       "       'Lower middle income', 'Upper middle income', 'Upper middle income',\n",
       "       'Upper middle income', 'Lower middle income', 'High income',\n",
       "       'High income', 'High income', 'Upper middle income', 'High income',\n",
       "       'High income', 'Upper middle income', 'High income',\n",
       "       'Lower middle income', 'High income', 'Lower middle income',\n",
       "       'Lower middle income', 'High income', 'Lower middle income',\n",
       "       'Low income', 'Lower middle income', 'Low income',\n",
       "       'Upper middle income', 'Lower middle income', 'Lower middle income',\n",
       "       'Upper middle income', 'High income', 'High income', 'High income',\n",
       "       'Lower middle income', 'Upper middle income', 'Lower middle income',\n",
       "       'Low income', 'Low income', 'Upper middle income',\n",
       "       'Lower middle income', 'Lower middle income', 'Low income',\n",
       "       'Lower middle income', 'High income', 'Upper middle income',\n",
       "       'Upper middle income', 'Low income', 'Low income',\n",
       "       'Upper middle income', 'High income', 'High income',\n",
       "       'Upper middle income', 'Upper middle income', 'High income',\n",
       "       'Upper middle income', 'Upper middle income', 'Lower middle income',\n",
       "       'Upper middle income', 'Lower middle income', 'Lower middle income',\n",
       "       'Upper middle income', 'Low income', 'Lower middle income',\n",
       "       'Lower middle income'], dtype=object)"
      ]
     },
     "execution_count": 117,
     "metadata": {},
     "output_type": "execute_result"
    }
   ],
   "source": [
    "LR.fit(X, y).predict(X)"
   ]
  },
  {
   "cell_type": "code",
   "execution_count": 118,
   "metadata": {
    "collapsed": false
   },
   "outputs": [
    {
     "data": {
      "text/plain": [
       "0.77435897435897438"
      ]
     },
     "execution_count": 118,
     "metadata": {},
     "output_type": "execute_result"
    }
   ],
   "source": [
    "LR.score(X, y)"
   ]
  },
  {
   "cell_type": "code",
   "execution_count": null,
   "metadata": {
    "collapsed": true
   },
   "outputs": [],
   "source": []
  }
 ],
 "metadata": {
  "kernelspec": {
   "display_name": "Python 3",
   "language": "python",
   "name": "python3"
  },
  "language_info": {
   "codemirror_mode": {
    "name": "ipython",
    "version": 3
   },
   "file_extension": ".py",
   "mimetype": "text/x-python",
   "name": "python",
   "nbconvert_exporter": "python",
   "pygments_lexer": "ipython3",
   "version": "3.6.0"
  }
 },
 "nbformat": 4,
 "nbformat_minor": 2
}
