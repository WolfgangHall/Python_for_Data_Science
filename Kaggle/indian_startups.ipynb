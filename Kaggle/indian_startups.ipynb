{
 "cells": [
  {
   "cell_type": "code",
   "execution_count": 122,
   "metadata": {},
   "outputs": [],
   "source": [
    "import numpy as np\n",
    "import pandas as pd\n",
    "import matplotlib.pyplot as plt\n",
    "import seaborn as sns\n",
    "%matplotlib inline"
   ]
  },
  {
   "cell_type": "code",
   "execution_count": 52,
   "metadata": {},
   "outputs": [],
   "source": [
    "raw_df = pd.read_csv('startup_funding.csv', index_col=0)"
   ]
  },
  {
   "cell_type": "code",
   "execution_count": 53,
   "metadata": {},
   "outputs": [
    {
     "data": {
      "text/html": [
       "<div>\n",
       "<style scoped>\n",
       "    .dataframe tbody tr th:only-of-type {\n",
       "        vertical-align: middle;\n",
       "    }\n",
       "\n",
       "    .dataframe tbody tr th {\n",
       "        vertical-align: top;\n",
       "    }\n",
       "\n",
       "    .dataframe thead th {\n",
       "        text-align: right;\n",
       "    }\n",
       "</style>\n",
       "<table border=\"1\" class=\"dataframe\">\n",
       "  <thead>\n",
       "    <tr style=\"text-align: right;\">\n",
       "      <th></th>\n",
       "      <th>Date</th>\n",
       "      <th>StartupName</th>\n",
       "      <th>IndustryVertical</th>\n",
       "      <th>SubVertical</th>\n",
       "      <th>CityLocation</th>\n",
       "      <th>InvestorsName</th>\n",
       "      <th>InvestmentType</th>\n",
       "      <th>AmountInUSD</th>\n",
       "      <th>Remarks</th>\n",
       "    </tr>\n",
       "    <tr>\n",
       "      <th>SNo</th>\n",
       "      <th></th>\n",
       "      <th></th>\n",
       "      <th></th>\n",
       "      <th></th>\n",
       "      <th></th>\n",
       "      <th></th>\n",
       "      <th></th>\n",
       "      <th></th>\n",
       "      <th></th>\n",
       "    </tr>\n",
       "  </thead>\n",
       "  <tbody>\n",
       "    <tr>\n",
       "      <th>0</th>\n",
       "      <td>01/08/2017</td>\n",
       "      <td>TouchKin</td>\n",
       "      <td>Technology</td>\n",
       "      <td>Predictive Care Platform</td>\n",
       "      <td>Bangalore</td>\n",
       "      <td>Kae Capital</td>\n",
       "      <td>Private Equity</td>\n",
       "      <td>1,300,000</td>\n",
       "      <td>NaN</td>\n",
       "    </tr>\n",
       "    <tr>\n",
       "      <th>1</th>\n",
       "      <td>02/08/2017</td>\n",
       "      <td>Ethinos</td>\n",
       "      <td>Technology</td>\n",
       "      <td>Digital Marketing Agency</td>\n",
       "      <td>Mumbai</td>\n",
       "      <td>Triton Investment Advisors</td>\n",
       "      <td>Private Equity</td>\n",
       "      <td>NaN</td>\n",
       "      <td>NaN</td>\n",
       "    </tr>\n",
       "    <tr>\n",
       "      <th>2</th>\n",
       "      <td>02/08/2017</td>\n",
       "      <td>Leverage Edu</td>\n",
       "      <td>Consumer Internet</td>\n",
       "      <td>Online platform for Higher Education Services</td>\n",
       "      <td>New Delhi</td>\n",
       "      <td>Kashyap Deorah, Anand Sankeshwar, Deepak Jain,...</td>\n",
       "      <td>Seed Funding</td>\n",
       "      <td>NaN</td>\n",
       "      <td>NaN</td>\n",
       "    </tr>\n",
       "    <tr>\n",
       "      <th>3</th>\n",
       "      <td>02/08/2017</td>\n",
       "      <td>Zepo</td>\n",
       "      <td>Consumer Internet</td>\n",
       "      <td>DIY Ecommerce platform</td>\n",
       "      <td>Mumbai</td>\n",
       "      <td>Kunal Shah, LetsVenture, Anupam Mittal, Hetal ...</td>\n",
       "      <td>Seed Funding</td>\n",
       "      <td>500,000</td>\n",
       "      <td>NaN</td>\n",
       "    </tr>\n",
       "    <tr>\n",
       "      <th>4</th>\n",
       "      <td>02/08/2017</td>\n",
       "      <td>Click2Clinic</td>\n",
       "      <td>Consumer Internet</td>\n",
       "      <td>healthcare service aggregator</td>\n",
       "      <td>Hyderabad</td>\n",
       "      <td>Narottam Thudi, Shireesh Palle</td>\n",
       "      <td>Seed Funding</td>\n",
       "      <td>850,000</td>\n",
       "      <td>NaN</td>\n",
       "    </tr>\n",
       "  </tbody>\n",
       "</table>\n",
       "</div>"
      ],
      "text/plain": [
       "           Date   StartupName   IndustryVertical  \\\n",
       "SNo                                                \n",
       "0    01/08/2017      TouchKin         Technology   \n",
       "1    02/08/2017       Ethinos         Technology   \n",
       "2    02/08/2017  Leverage Edu  Consumer Internet   \n",
       "3    02/08/2017          Zepo  Consumer Internet   \n",
       "4    02/08/2017  Click2Clinic  Consumer Internet   \n",
       "\n",
       "                                       SubVertical CityLocation  \\\n",
       "SNo                                                               \n",
       "0                         Predictive Care Platform    Bangalore   \n",
       "1                         Digital Marketing Agency       Mumbai   \n",
       "2    Online platform for Higher Education Services    New Delhi   \n",
       "3                           DIY Ecommerce platform       Mumbai   \n",
       "4                    healthcare service aggregator    Hyderabad   \n",
       "\n",
       "                                         InvestorsName  InvestmentType  \\\n",
       "SNo                                                                      \n",
       "0                                          Kae Capital  Private Equity   \n",
       "1                           Triton Investment Advisors  Private Equity   \n",
       "2    Kashyap Deorah, Anand Sankeshwar, Deepak Jain,...    Seed Funding   \n",
       "3    Kunal Shah, LetsVenture, Anupam Mittal, Hetal ...    Seed Funding   \n",
       "4                       Narottam Thudi, Shireesh Palle    Seed Funding   \n",
       "\n",
       "    AmountInUSD Remarks  \n",
       "SNo                      \n",
       "0     1,300,000     NaN  \n",
       "1           NaN     NaN  \n",
       "2           NaN     NaN  \n",
       "3       500,000     NaN  \n",
       "4       850,000     NaN  "
      ]
     },
     "execution_count": 53,
     "metadata": {},
     "output_type": "execute_result"
    }
   ],
   "source": [
    "raw_df.head()"
   ]
  },
  {
   "cell_type": "code",
   "execution_count": 54,
   "metadata": {},
   "outputs": [
    {
     "name": "stdout",
     "output_type": "stream",
     "text": [
      "<class 'pandas.core.frame.DataFrame'>\n",
      "Int64Index: 2372 entries, 0 to 2371\n",
      "Data columns (total 9 columns):\n",
      "Date                2372 non-null object\n",
      "StartupName         2372 non-null object\n",
      "IndustryVertical    2201 non-null object\n",
      "SubVertical         1436 non-null object\n",
      "CityLocation        2193 non-null object\n",
      "InvestorsName       2364 non-null object\n",
      "InvestmentType      2371 non-null object\n",
      "AmountInUSD         1525 non-null object\n",
      "Remarks             419 non-null object\n",
      "dtypes: object(9)\n",
      "memory usage: 185.3+ KB\n"
     ]
    }
   ],
   "source": [
    "raw_df.info()"
   ]
  },
  {
   "cell_type": "code",
   "execution_count": 247,
   "metadata": {},
   "outputs": [],
   "source": [
    "df = raw_df.copy()"
   ]
  },
  {
   "cell_type": "code",
   "execution_count": 248,
   "metadata": {},
   "outputs": [],
   "source": [
    "df['AmountInUSD'] = df['AmountInUSD'].str.replace(',', '').astype('float')"
   ]
  },
  {
   "cell_type": "code",
   "execution_count": 249,
   "metadata": {},
   "outputs": [],
   "source": [
    "df['AmountInUSD'].fillna(0, inplace=True)"
   ]
  },
  {
   "cell_type": "code",
   "execution_count": 250,
   "metadata": {},
   "outputs": [
    {
     "data": {
      "text/html": [
       "<div>\n",
       "<style scoped>\n",
       "    .dataframe tbody tr th:only-of-type {\n",
       "        vertical-align: middle;\n",
       "    }\n",
       "\n",
       "    .dataframe tbody tr th {\n",
       "        vertical-align: top;\n",
       "    }\n",
       "\n",
       "    .dataframe thead th {\n",
       "        text-align: right;\n",
       "    }\n",
       "</style>\n",
       "<table border=\"1\" class=\"dataframe\">\n",
       "  <thead>\n",
       "    <tr style=\"text-align: right;\">\n",
       "      <th></th>\n",
       "      <th>Date</th>\n",
       "      <th>StartupName</th>\n",
       "      <th>IndustryVertical</th>\n",
       "      <th>SubVertical</th>\n",
       "      <th>CityLocation</th>\n",
       "      <th>InvestorsName</th>\n",
       "      <th>InvestmentType</th>\n",
       "      <th>AmountInUSD</th>\n",
       "      <th>Remarks</th>\n",
       "    </tr>\n",
       "    <tr>\n",
       "      <th>SNo</th>\n",
       "      <th></th>\n",
       "      <th></th>\n",
       "      <th></th>\n",
       "      <th></th>\n",
       "      <th></th>\n",
       "      <th></th>\n",
       "      <th></th>\n",
       "      <th></th>\n",
       "      <th></th>\n",
       "    </tr>\n",
       "  </thead>\n",
       "  <tbody>\n",
       "    <tr>\n",
       "      <th>2103</th>\n",
       "      <td>12/05.2015</td>\n",
       "      <td>Mobiefit</td>\n",
       "      <td>Mobile Fitness App</td>\n",
       "      <td>NaN</td>\n",
       "      <td>Goa</td>\n",
       "      <td>Prototyze</td>\n",
       "      <td>Seed Funding</td>\n",
       "      <td>0.0</td>\n",
       "      <td>NaN</td>\n",
       "    </tr>\n",
       "    <tr>\n",
       "      <th>2104</th>\n",
       "      <td>12/05.2015</td>\n",
       "      <td>Plancess</td>\n",
       "      <td>Online Education Platform</td>\n",
       "      <td>NaN</td>\n",
       "      <td>Mumbai</td>\n",
       "      <td>Rajendra Gogri,  Chandrakant Gogri</td>\n",
       "      <td>Seed Funding</td>\n",
       "      <td>2000000.0</td>\n",
       "      <td>NaN</td>\n",
       "    </tr>\n",
       "    <tr>\n",
       "      <th>2159</th>\n",
       "      <td>13/04.2015</td>\n",
       "      <td>The Porter</td>\n",
       "      <td>Logistics Tech</td>\n",
       "      <td>NaN</td>\n",
       "      <td>Mumbai</td>\n",
       "      <td>Kae Capital</td>\n",
       "      <td>Seed Funding</td>\n",
       "      <td>500000.0</td>\n",
       "      <td>NaN</td>\n",
       "    </tr>\n",
       "    <tr>\n",
       "      <th>2339</th>\n",
       "      <td>15/01.2015</td>\n",
       "      <td>Wishberry</td>\n",
       "      <td>NaN</td>\n",
       "      <td>NaN</td>\n",
       "      <td>NaN</td>\n",
       "      <td>Rajan Anandan, Shankar Mahadevan, Deep Kalra &amp;...</td>\n",
       "      <td>Seed Funding</td>\n",
       "      <td>650000.0</td>\n",
       "      <td>NaN</td>\n",
       "    </tr>\n",
       "  </tbody>\n",
       "</table>\n",
       "</div>"
      ],
      "text/plain": [
       "            Date StartupName           IndustryVertical SubVertical  \\\n",
       "SNo                                                                   \n",
       "2103  12/05.2015    Mobiefit         Mobile Fitness App         NaN   \n",
       "2104  12/05.2015    Plancess  Online Education Platform         NaN   \n",
       "2159  13/04.2015  The Porter             Logistics Tech         NaN   \n",
       "2339  15/01.2015   Wishberry                        NaN         NaN   \n",
       "\n",
       "     CityLocation                                      InvestorsName  \\\n",
       "SNo                                                                    \n",
       "2103          Goa                                          Prototyze   \n",
       "2104       Mumbai                 Rajendra Gogri,  Chandrakant Gogri   \n",
       "2159       Mumbai                                        Kae Capital   \n",
       "2339          NaN  Rajan Anandan, Shankar Mahadevan, Deep Kalra &...   \n",
       "\n",
       "     InvestmentType  AmountInUSD Remarks  \n",
       "SNo                                       \n",
       "2103   Seed Funding          0.0     NaN  \n",
       "2104   Seed Funding    2000000.0     NaN  \n",
       "2159   Seed Funding     500000.0     NaN  \n",
       "2339   Seed Funding     650000.0     NaN  "
      ]
     },
     "execution_count": 250,
     "metadata": {},
     "output_type": "execute_result"
    }
   ],
   "source": [
    "# some dates have points instead of forward slashes in them\n",
    "df[df['Date'].apply(lambda x: '.' in x)]"
   ]
  },
  {
   "cell_type": "code",
   "execution_count": 251,
   "metadata": {},
   "outputs": [
    {
     "data": {
      "text/html": [
       "<div>\n",
       "<style scoped>\n",
       "    .dataframe tbody tr th:only-of-type {\n",
       "        vertical-align: middle;\n",
       "    }\n",
       "\n",
       "    .dataframe tbody tr th {\n",
       "        vertical-align: top;\n",
       "    }\n",
       "\n",
       "    .dataframe thead th {\n",
       "        text-align: right;\n",
       "    }\n",
       "</style>\n",
       "<table border=\"1\" class=\"dataframe\">\n",
       "  <thead>\n",
       "    <tr style=\"text-align: right;\">\n",
       "      <th></th>\n",
       "      <th>Date</th>\n",
       "      <th>StartupName</th>\n",
       "      <th>IndustryVertical</th>\n",
       "      <th>SubVertical</th>\n",
       "      <th>CityLocation</th>\n",
       "      <th>InvestorsName</th>\n",
       "      <th>InvestmentType</th>\n",
       "      <th>AmountInUSD</th>\n",
       "      <th>Remarks</th>\n",
       "    </tr>\n",
       "    <tr>\n",
       "      <th>SNo</th>\n",
       "      <th></th>\n",
       "      <th></th>\n",
       "      <th></th>\n",
       "      <th></th>\n",
       "      <th></th>\n",
       "      <th></th>\n",
       "      <th></th>\n",
       "      <th></th>\n",
       "      <th></th>\n",
       "    </tr>\n",
       "  </thead>\n",
       "  <tbody>\n",
       "    <tr>\n",
       "      <th>2357</th>\n",
       "      <td>22/01//2015</td>\n",
       "      <td>Corporate360</td>\n",
       "      <td>NaN</td>\n",
       "      <td>NaN</td>\n",
       "      <td>NaN</td>\n",
       "      <td>Group of Angel Investors</td>\n",
       "      <td>Seed Funding</td>\n",
       "      <td>200000.0</td>\n",
       "      <td>NaN</td>\n",
       "    </tr>\n",
       "  </tbody>\n",
       "</table>\n",
       "</div>"
      ],
      "text/plain": [
       "             Date   StartupName IndustryVertical SubVertical CityLocation  \\\n",
       "SNo                                                                         \n",
       "2357  22/01//2015  Corporate360              NaN         NaN          NaN   \n",
       "\n",
       "                 InvestorsName InvestmentType  AmountInUSD Remarks  \n",
       "SNo                                                                 \n",
       "2357  Group of Angel Investors   Seed Funding     200000.0     NaN  "
      ]
     },
     "execution_count": 251,
     "metadata": {},
     "output_type": "execute_result"
    }
   ],
   "source": [
    "df[df['Date'].apply(lambda x: '//' in x)]"
   ]
  },
  {
   "cell_type": "code",
   "execution_count": 252,
   "metadata": {},
   "outputs": [],
   "source": [
    "df['Date'] = df['Date'].str.replace('.', '/')\n",
    "df['Date'] = df['Date'].str.replace('//', '/')"
   ]
  },
  {
   "cell_type": "code",
   "execution_count": 253,
   "metadata": {
    "scrolled": true
   },
   "outputs": [
    {
     "data": {
      "text/plain": [
       "SNo\n",
       "0      2017-08-01\n",
       "1      2017-08-02\n",
       "2      2017-08-02\n",
       "3      2017-08-02\n",
       "4      2017-08-02\n",
       "5      2017-07-01\n",
       "6      2017-07-03\n",
       "7      2017-07-04\n",
       "8      2017-07-05\n",
       "9      2017-07-05\n",
       "10     2017-07-05\n",
       "11     2017-07-06\n",
       "12     2017-07-06\n",
       "13     2017-07-07\n",
       "14     2017-07-07\n",
       "15     2017-07-10\n",
       "16     2017-07-11\n",
       "17     2017-07-11\n",
       "18     2017-07-11\n",
       "19     2017-07-12\n",
       "20     2017-07-12\n",
       "21     2017-07-12\n",
       "22     2017-07-12\n",
       "23     2017-07-14\n",
       "24     2017-07-14\n",
       "25     2017-07-17\n",
       "26     2017-07-17\n",
       "27     2017-07-18\n",
       "28     2017-07-18\n",
       "29     2017-07-18\n",
       "          ...    \n",
       "2342   2015-01-19\n",
       "2343   2015-01-19\n",
       "2344   2015-01-19\n",
       "2345   2015-01-19\n",
       "2346   2015-01-19\n",
       "2347   2015-01-19\n",
       "2348   2015-01-19\n",
       "2349   2015-01-19\n",
       "2350   2015-01-20\n",
       "2351   2015-01-20\n",
       "2352   2015-01-20\n",
       "2353   2015-01-21\n",
       "2354   2015-01-21\n",
       "2355   2015-05-21\n",
       "2356   2015-05-21\n",
       "2357   2015-01-22\n",
       "2358   2015-01-22\n",
       "2359   2015-01-22\n",
       "2360   2015-01-22\n",
       "2361   2015-01-22\n",
       "2362   2015-01-24\n",
       "2363   2015-01-24\n",
       "2364   2015-01-25\n",
       "2365   2015-01-27\n",
       "2366   2015-01-28\n",
       "2367   2015-01-29\n",
       "2368   2015-01-29\n",
       "2369   2015-01-30\n",
       "2370   2015-01-30\n",
       "2371   2015-01-31\n",
       "Name: Date, Length: 2372, dtype: datetime64[ns]"
      ]
     },
     "execution_count": 253,
     "metadata": {},
     "output_type": "execute_result"
    }
   ],
   "source": [
    "pd.to_datetime(df['Date'], format='%d/%m/%Y')"
   ]
  },
  {
   "cell_type": "code",
   "execution_count": 254,
   "metadata": {},
   "outputs": [
    {
     "data": {
      "text/plain": [
       "<matplotlib.axes._subplots.AxesSubplot at 0x21125ef6fd0>"
      ]
     },
     "execution_count": 254,
     "metadata": {},
     "output_type": "execute_result"
    },
    {
     "data": {
      "image/png": "[encoded data removed]",
      "text/plain": [
       "<matplotlib.figure.Figure at 0x211264ba3c8>"
      ]
     },
     "metadata": {},
     "output_type": "display_data"
    }
   ],
   "source": [
    "plt.figure(figsize=(10, 4))\n",
    "sns.countplot(x='InvestmentType', data=df)"
   ]
  },
  {
   "cell_type": "code",
   "execution_count": 255,
   "metadata": {},
   "outputs": [],
   "source": [
    "df['InvestmentType'].replace({'SeedFunding': 'Seed Funding', \n",
    "                              'Crowd funding': 'Crowd Funding',\n",
    "                              'PrivateEquity': 'Private Equity'}, inplace=True)"
   ]
  },
  {
   "cell_type": "code",
   "execution_count": 256,
   "metadata": {},
   "outputs": [
    {
     "data": {
      "text/plain": [
       "<matplotlib.axes._subplots.AxesSubplot at 0x211264e27f0>"
      ]
     },
     "execution_count": 256,
     "metadata": {},
     "output_type": "execute_result"
    },
    {
     "data": {
      "image/png": "[encoded data removed]",
      "text/plain": [
       "<matplotlib.figure.Figure at 0x211264be940>"
      ]
     },
     "metadata": {},
     "output_type": "display_data"
    }
   ],
   "source": [
    "plt.figure(figsize=(10, 4))\n",
    "sns.countplot(x='InvestmentType', data=df)"
   ]
  },
  {
   "cell_type": "code",
   "execution_count": null,
   "metadata": {},
   "outputs": [],
   "source": []
  },
  {
   "cell_type": "code",
   "execution_count": null,
   "metadata": {},
   "outputs": [],
   "source": []
  }
 ],
 "metadata": {
  "kernelspec": {
   "display_name": "Python 3",
   "language": "python",
   "name": "python3"
  },
  "language_info": {
   "codemirror_mode": {
    "name": "ipython",
    "version": 3
   },
   "file_extension": ".py",
   "mimetype": "text/x-python",
   "name": "python",
   "nbconvert_exporter": "python",
   "pygments_lexer": "ipython3",
   "version": "3.6.4"
  }
 },
 "nbformat": 4,
 "nbformat_minor": 2
}
