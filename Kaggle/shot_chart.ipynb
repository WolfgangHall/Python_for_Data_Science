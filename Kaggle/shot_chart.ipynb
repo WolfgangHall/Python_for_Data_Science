{
 "cells": [
  {
   "cell_type": "code",
   "execution_count": 1,
   "metadata": {},
   "outputs": [],
   "source": [
    "import numpy as np\n",
    "import pandas as pd\n",
    "import matplotlib.pyplot as plt\n",
    "%matplotlib inline"
   ]
  },
  {
   "cell_type": "code",
   "execution_count": 2,
   "metadata": {},
   "outputs": [],
   "source": [
    "df = pd.read_csv('shot_logs.csv')"
   ]
  },
  {
   "cell_type": "code",
   "execution_count": 3,
   "metadata": {},
   "outputs": [
    {
     "data": {
      "text/html": [
       "<div>\n",
       "<style scoped>\n",
       "    .dataframe tbody tr th:only-of-type {\n",
       "        vertical-align: middle;\n",
       "    }\n",
       "\n",
       "    .dataframe tbody tr th {\n",
       "        vertical-align: top;\n",
       "    }\n",
       "\n",
       "    .dataframe thead th {\n",
       "        text-align: right;\n",
       "    }\n",
       "</style>\n",
       "<table border=\"1\" class=\"dataframe\">\n",
       "  <thead>\n",
       "    <tr style=\"text-align: right;\">\n",
       "      <th></th>\n",
       "      <th>GAME_ID</th>\n",
       "      <th>MATCHUP</th>\n",
       "      <th>LOCATION</th>\n",
       "      <th>W</th>\n",
       "      <th>FINAL_MARGIN</th>\n",
       "      <th>SHOT_NUMBER</th>\n",
       "      <th>PERIOD</th>\n",
       "      <th>GAME_CLOCK</th>\n",
       "      <th>SHOT_CLOCK</th>\n",
       "      <th>DRIBBLES</th>\n",
       "      <th>...</th>\n",
       "      <th>SHOT_DIST</th>\n",
       "      <th>PTS_TYPE</th>\n",
       "      <th>SHOT_RESULT</th>\n",
       "      <th>CLOSEST_DEFENDER</th>\n",
       "      <th>CLOSEST_DEFENDER_PLAYER_ID</th>\n",
       "      <th>CLOSE_DEF_DIST</th>\n",
       "      <th>FGM</th>\n",
       "      <th>PTS</th>\n",
       "      <th>player_name</th>\n",
       "      <th>player_id</th>\n",
       "    </tr>\n",
       "  </thead>\n",
       "  <tbody>\n",
       "    <tr>\n",
       "      <th>0</th>\n",
       "      <td>21400899</td>\n",
       "      <td>MAR 04, 2015 - CHA @ BKN</td>\n",
       "      <td>A</td>\n",
       "      <td>W</td>\n",
       "      <td>24</td>\n",
       "      <td>1</td>\n",
       "      <td>1</td>\n",
       "      <td>1:09</td>\n",
       "      <td>10.8</td>\n",
       "      <td>2</td>\n",
       "      <td>...</td>\n",
       "      <td>7.7</td>\n",
       "      <td>2</td>\n",
       "      <td>made</td>\n",
       "      <td>Anderson, Alan</td>\n",
       "      <td>101187</td>\n",
       "      <td>1.3</td>\n",
       "      <td>1</td>\n",
       "      <td>2</td>\n",
       "      <td>brian roberts</td>\n",
       "      <td>203148</td>\n",
       "    </tr>\n",
       "    <tr>\n",
       "      <th>1</th>\n",
       "      <td>21400899</td>\n",
       "      <td>MAR 04, 2015 - CHA @ BKN</td>\n",
       "      <td>A</td>\n",
       "      <td>W</td>\n",
       "      <td>24</td>\n",
       "      <td>2</td>\n",
       "      <td>1</td>\n",
       "      <td>0:14</td>\n",
       "      <td>3.4</td>\n",
       "      <td>0</td>\n",
       "      <td>...</td>\n",
       "      <td>28.2</td>\n",
       "      <td>3</td>\n",
       "      <td>missed</td>\n",
       "      <td>Bogdanovic, Bojan</td>\n",
       "      <td>202711</td>\n",
       "      <td>6.1</td>\n",
       "      <td>0</td>\n",
       "      <td>0</td>\n",
       "      <td>brian roberts</td>\n",
       "      <td>203148</td>\n",
       "    </tr>\n",
       "    <tr>\n",
       "      <th>2</th>\n",
       "      <td>21400899</td>\n",
       "      <td>MAR 04, 2015 - CHA @ BKN</td>\n",
       "      <td>A</td>\n",
       "      <td>W</td>\n",
       "      <td>24</td>\n",
       "      <td>3</td>\n",
       "      <td>1</td>\n",
       "      <td>0:00</td>\n",
       "      <td>NaN</td>\n",
       "      <td>3</td>\n",
       "      <td>...</td>\n",
       "      <td>10.1</td>\n",
       "      <td>2</td>\n",
       "      <td>missed</td>\n",
       "      <td>Bogdanovic, Bojan</td>\n",
       "      <td>202711</td>\n",
       "      <td>0.9</td>\n",
       "      <td>0</td>\n",
       "      <td>0</td>\n",
       "      <td>brian roberts</td>\n",
       "      <td>203148</td>\n",
       "    </tr>\n",
       "    <tr>\n",
       "      <th>3</th>\n",
       "      <td>21400899</td>\n",
       "      <td>MAR 04, 2015 - CHA @ BKN</td>\n",
       "      <td>A</td>\n",
       "      <td>W</td>\n",
       "      <td>24</td>\n",
       "      <td>4</td>\n",
       "      <td>2</td>\n",
       "      <td>11:47</td>\n",
       "      <td>10.3</td>\n",
       "      <td>2</td>\n",
       "      <td>...</td>\n",
       "      <td>17.2</td>\n",
       "      <td>2</td>\n",
       "      <td>missed</td>\n",
       "      <td>Brown, Markel</td>\n",
       "      <td>203900</td>\n",
       "      <td>3.4</td>\n",
       "      <td>0</td>\n",
       "      <td>0</td>\n",
       "      <td>brian roberts</td>\n",
       "      <td>203148</td>\n",
       "    </tr>\n",
       "    <tr>\n",
       "      <th>4</th>\n",
       "      <td>21400899</td>\n",
       "      <td>MAR 04, 2015 - CHA @ BKN</td>\n",
       "      <td>A</td>\n",
       "      <td>W</td>\n",
       "      <td>24</td>\n",
       "      <td>5</td>\n",
       "      <td>2</td>\n",
       "      <td>10:34</td>\n",
       "      <td>10.9</td>\n",
       "      <td>2</td>\n",
       "      <td>...</td>\n",
       "      <td>3.7</td>\n",
       "      <td>2</td>\n",
       "      <td>missed</td>\n",
       "      <td>Young, Thaddeus</td>\n",
       "      <td>201152</td>\n",
       "      <td>1.1</td>\n",
       "      <td>0</td>\n",
       "      <td>0</td>\n",
       "      <td>brian roberts</td>\n",
       "      <td>203148</td>\n",
       "    </tr>\n",
       "  </tbody>\n",
       "</table>\n",
       "<p>5 rows × 21 columns</p>\n",
       "</div>"
      ],
      "text/plain": [
       "    GAME_ID                   MATCHUP LOCATION  W  FINAL_MARGIN  SHOT_NUMBER  \\\n",
       "0  21400899  MAR 04, 2015 - CHA @ BKN        A  W            24            1   \n",
       "1  21400899  MAR 04, 2015 - CHA @ BKN        A  W            24            2   \n",
       "2  21400899  MAR 04, 2015 - CHA @ BKN        A  W            24            3   \n",
       "3  21400899  MAR 04, 2015 - CHA @ BKN        A  W            24            4   \n",
       "4  21400899  MAR 04, 2015 - CHA @ BKN        A  W            24            5   \n",
       "\n",
       "   PERIOD GAME_CLOCK  SHOT_CLOCK  DRIBBLES    ...     SHOT_DIST  PTS_TYPE  \\\n",
       "0       1       1:09        10.8         2    ...           7.7         2   \n",
       "1       1       0:14         3.4         0    ...          28.2         3   \n",
       "2       1       0:00         NaN         3    ...          10.1         2   \n",
       "3       2      11:47        10.3         2    ...          17.2         2   \n",
       "4       2      10:34        10.9         2    ...           3.7         2   \n",
       "\n",
       "   SHOT_RESULT   CLOSEST_DEFENDER CLOSEST_DEFENDER_PLAYER_ID  CLOSE_DEF_DIST  \\\n",
       "0         made     Anderson, Alan                     101187             1.3   \n",
       "1       missed  Bogdanovic, Bojan                     202711             6.1   \n",
       "2       missed  Bogdanovic, Bojan                     202711             0.9   \n",
       "3       missed      Brown, Markel                     203900             3.4   \n",
       "4       missed    Young, Thaddeus                     201152             1.1   \n",
       "\n",
       "   FGM  PTS    player_name player_id  \n",
       "0    1    2  brian roberts    203148  \n",
       "1    0    0  brian roberts    203148  \n",
       "2    0    0  brian roberts    203148  \n",
       "3    0    0  brian roberts    203148  \n",
       "4    0    0  brian roberts    203148  \n",
       "\n",
       "[5 rows x 21 columns]"
      ]
     },
     "execution_count": 3,
     "metadata": {},
     "output_type": "execute_result"
    }
   ],
   "source": [
    "df.head()"
   ]
  },
  {
   "cell_type": "code",
   "execution_count": 148,
   "metadata": {},
   "outputs": [
    {
     "data": {
      "text/plain": [
       "(array([6.1343e+04, 5.3316e+04, 9.8070e+03, 2.3450e+03, 8.7900e+02,\n",
       "        2.5900e+02, 5.3000e+01, 1.7000e+01, 1.4000e+01, 9.0000e+00,\n",
       "        6.0000e+00, 3.0000e+00, 7.0000e+00, 6.0000e+00, 5.0000e+00]),\n",
       " array([ 0.        ,  3.54666667,  7.09333333, 10.64      , 14.18666667,\n",
       "        17.73333333, 21.28      , 24.82666667, 28.37333333, 31.92      ,\n",
       "        35.46666667, 39.01333333, 42.56      , 46.10666667, 49.65333333,\n",
       "        53.2       ]),\n",
       " <a list of 15 Patch objects>)"
      ]
     },
     "execution_count": 148,
     "metadata": {},
     "output_type": "execute_result"
    },
    {
     "data": {
      "image/png": "[encoded data removed]",
      "text/plain": [
       "<matplotlib.figure.Figure at 0x1f117806a58>"
      ]
     },
     "metadata": {},
     "output_type": "display_data"
    }
   ],
   "source": [
    "plt.hist(df['CLOSE_DEF_DIST'],  bins=15)"
   ]
  },
  {
   "cell_type": "code",
   "execution_count": 111,
   "metadata": {},
   "outputs": [
    {
     "data": {
      "text/plain": [
       "(array([7.7410e+03, 1.6419e+04, 1.4219e+04, 9.6300e+03, 6.8030e+03,\n",
       "        4.6060e+03, 3.7980e+03, 4.1620e+03, 5.2870e+03, 7.5370e+03,\n",
       "        8.4020e+03, 8.2380e+03, 1.5323e+04, 1.3037e+04, 1.9200e+03,\n",
       "        3.9600e+02, 1.6500e+02, 9.0000e+01, 7.4000e+01, 5.3000e+01,\n",
       "        4.6000e+01, 5.2000e+01, 4.5000e+01, 2.0000e+01, 6.0000e+00]),\n",
       " array([ 0.   ,  1.888,  3.776,  5.664,  7.552,  9.44 , 11.328, 13.216,\n",
       "        15.104, 16.992, 18.88 , 20.768, 22.656, 24.544, 26.432, 28.32 ,\n",
       "        30.208, 32.096, 33.984, 35.872, 37.76 , 39.648, 41.536, 43.424,\n",
       "        45.312, 47.2  ]),\n",
       " <a list of 25 Patch objects>)"
      ]
     },
     "execution_count": 111,
     "metadata": {},
     "output_type": "execute_result"
    },
    {
     "data": {
      "image/png": "[encoded data removed]",
      "text/plain": [
       "<matplotlib.figure.Figure at 0x1f119199a58>"
      ]
     },
     "metadata": {},
     "output_type": "display_data"
    }
   ],
   "source": [
    "plt.hist(df['SHOT_DIST'],  bins=25)"
   ]
  },
  {
   "cell_type": "code",
   "execution_count": 4,
   "metadata": {},
   "outputs": [
    {
     "name": "stdout",
     "output_type": "stream",
     "text": [
      "<class 'pandas.core.frame.DataFrame'>\n",
      "RangeIndex: 128069 entries, 0 to 128068\n",
      "Data columns (total 21 columns):\n",
      "GAME_ID                       128069 non-null int64\n",
      "MATCHUP                       128069 non-null object\n",
      "LOCATION                      128069 non-null object\n",
      "W                             128069 non-null object\n",
      "FINAL_MARGIN                  128069 non-null int64\n",
      "SHOT_NUMBER                   128069 non-null int64\n",
      "PERIOD                        128069 non-null int64\n",
      "GAME_CLOCK                    128069 non-null object\n",
      "SHOT_CLOCK                    122502 non-null float64\n",
      "DRIBBLES                      128069 non-null int64\n",
      "TOUCH_TIME                    128069 non-null float64\n",
      "SHOT_DIST                     128069 non-null float64\n",
      "PTS_TYPE                      128069 non-null int64\n",
      "SHOT_RESULT                   128069 non-null object\n",
      "CLOSEST_DEFENDER              128069 non-null object\n",
      "CLOSEST_DEFENDER_PLAYER_ID    128069 non-null int64\n",
      "CLOSE_DEF_DIST                128069 non-null float64\n",
      "FGM                           128069 non-null int64\n",
      "PTS                           128069 non-null int64\n",
      "player_name                   128069 non-null object\n",
      "player_id                     128069 non-null int64\n",
      "dtypes: float64(4), int64(10), object(7)\n",
      "memory usage: 20.5+ MB\n"
     ]
    }
   ],
   "source": [
    "df.info()"
   ]
  },
  {
   "cell_type": "code",
   "execution_count": 29,
   "metadata": {},
   "outputs": [],
   "source": [
    "klay_test = df[df['player_name'] == 'klay thompson']"
   ]
  },
  {
   "cell_type": "code",
   "execution_count": 167,
   "metadata": {},
   "outputs": [],
   "source": [
    "class Player:\n",
    "    \n",
    "    def __init__(self, player_name):\n",
    "        '''Constructor that takes a players name as input'''\n",
    "        self.player_name = player_name\n",
    "        self.data = df[df['player_name'] == self.player_name]\n",
    "    \n",
    "    \n",
    "    def get_fg_pct(self):\n",
    "        '''Returns the players field goal percentage'''\n",
    "        df = self.data\n",
    "        return round(\n",
    "            (df[df['SHOT_RESULT'] == 'made']['SHOT_RESULT'].count() / \\\n",
    "                df['SHOT_RESULT'].count()) * 100, \n",
    "            2)\n",
    "    \n",
    "    \n",
    "    def get_3fg_pct(self):\n",
    "        '''Returns the players 3-point field goal percentage'''\n",
    "        df = self.data\n",
    "        return round(\n",
    "            df[(df['SHOT_RESULT'] == 'made') & \n",
    "               (df['PTS_TYPE'] == 3)]['PTS'].count() / \\\n",
    "            df[df['PTS_TYPE'] == 3].count()['PTS'] * 100, \n",
    "            2)\n",
    "    \n",
    "    \n",
    "    def splits_by_shot_distance(self):\n",
    "        '''Returns a players shooting splits based on the shot distance from the basket'''\n",
    "        df = self.data\n",
    "        zerotosix = round(\n",
    "            df[(df['SHOT_RESULT'] == 'made') & \n",
    "               (df['SHOT_DIST'] <= 6)]['PTS'].count() / \\\n",
    "            df[df['SHOT_DIST'] <= 6].count()['PTS'] * 100, \n",
    "            2)\n",
    "        \n",
    "        # discrepancy due to the short corner\n",
    "        \n",
    "        sixto22 = round(\n",
    "            df[(df['SHOT_RESULT'] == 'made') & \n",
    "               (df['SHOT_DIST'] > 6) & \n",
    "               (df['SHOT_DIST'] <= 22.5)]['PTS'].count() / \\\n",
    "            df[(df['SHOT_DIST'] > 6) & \n",
    "               (df['SHOT_DIST'] <= 22.5)].count()['PTS'] * 100, \n",
    "            2)\n",
    "        \n",
    "        twentytwoandbeyond = round(\n",
    "            df[(df['SHOT_RESULT'] == 'made') & \n",
    "                 (df['SHOT_DIST'] > 22.5)]['PTS'].count() / \\\n",
    "            df[df['SHOT_DIST'] >= 22.5].count()['PTS'] * 100, \n",
    "           2)\n",
    "        return zerotosix, sixto22, twentytwoandbeyond\n",
    "    \n",
    "    \n",
    "    def splits_by_def_distance(self):\n",
    "        '''Returns shooting splits based on defender distance from the player'''\n",
    "        df = self.data\n",
    "        \n",
    "        zeroto3 = round(\n",
    "            df[(df['SHOT_RESULT'] == 'made') &\n",
    "               (df['CLOSE_DEF_DIST'] <=3)].count()['PTS'] / \\\n",
    "            df[df['CLOSE_DEF_DIST'] <= 3].count()['PTS'] * 100, \n",
    "            2)\n",
    "        \n",
    "        threeto7 = round(\n",
    "            df[(df['SHOT_RESULT'] == 'made') &\n",
    "               (df['CLOSE_DEF_DIST'] > 3) &\n",
    "               (df['CLOSE_DEF_DIST'] <= 7)].count()['PTS'] / \\\n",
    "            df[(df['CLOSE_DEF_DIST'] > 3) &\n",
    "                (df['CLOSE_DEF_DIST'] <= 7)].count()['PTS'] * 100, \n",
    "            2)\n",
    "        \n",
    "        sevento11 = round(\n",
    "            df[(df['SHOT_RESULT'] == 'made') &\n",
    "               (df['CLOSE_DEF_DIST'] > 7) &\n",
    "               (df['CLOSE_DEF_DIST'] <= 11)].count()['PTS'] / \\\n",
    "            df[(df['CLOSE_DEF_DIST'] > 7) &\n",
    "                (df['CLOSE_DEF_DIST'] <= 11)].count()['PTS'] * 100, \n",
    "            2)\n",
    "        \n",
    "        elevenandbeyond = round(\n",
    "            df[(df['SHOT_RESULT'] == 'made') &\n",
    "               (df['CLOSE_DEF_DIST'] > 11)].count()['PTS'] / \\\n",
    "            df[df['CLOSE_DEF_DIST'] > 11 3].count()['PTS'] * 100, \n",
    "            2)\n",
    "        \n",
    "        return zeroto3, threeto7, sevento11\n",
    "    \n",
    "    def spilts_by_period(self):\n",
    "        df = self.data\n",
    "        "
   ]
  },
  {
   "cell_type": "code",
   "execution_count": 168,
   "metadata": {},
   "outputs": [],
   "source": [
    "klay = Player('klay thompson')"
   ]
  },
  {
   "cell_type": "code",
   "execution_count": 144,
   "metadata": {},
   "outputs": [
    {
     "data": {
      "text/plain": [
       "46.24"
      ]
     },
     "execution_count": 144,
     "metadata": {},
     "output_type": "execute_result"
    }
   ],
   "source": [
    "klay.get_fg_pct()"
   ]
  },
  {
   "cell_type": "code",
   "execution_count": 145,
   "metadata": {
    "scrolled": true
   },
   "outputs": [
    {
     "data": {
      "text/plain": [
       "43.49"
      ]
     },
     "execution_count": 145,
     "metadata": {},
     "output_type": "execute_result"
    }
   ],
   "source": [
    "klay.get_3fg_pct()"
   ]
  },
  {
   "cell_type": "code",
   "execution_count": 146,
   "metadata": {},
   "outputs": [
    {
     "data": {
      "text/plain": [
       "(60.43, 41.86, 43.28)"
      ]
     },
     "execution_count": 146,
     "metadata": {},
     "output_type": "execute_result"
    }
   ],
   "source": [
    "klay.splits_by_shot_distance()"
   ]
  },
  {
   "cell_type": "code",
   "execution_count": 169,
   "metadata": {},
   "outputs": [
    {
     "data": {
      "text/plain": [
       "(45.35, 46.68, 48.33)"
      ]
     },
     "execution_count": 169,
     "metadata": {},
     "output_type": "execute_result"
    }
   ],
   "source": [
    "klay.splits_by_def_distance()"
   ]
  },
  {
   "cell_type": "code",
   "execution_count": null,
   "metadata": {},
   "outputs": [],
   "source": []
  }
 ],
 "metadata": {
  "kernelspec": {
   "display_name": "Python 3",
   "language": "python",
   "name": "python3"
  },
  "language_info": {
   "codemirror_mode": {
    "name": "ipython",
    "version": 3
   },
   "file_extension": ".py",
   "mimetype": "text/x-python",
   "name": "python",
   "nbconvert_exporter": "python",
   "pygments_lexer": "ipython3",
   "version": "3.6.4"
  }
 },
 "nbformat": 4,
 "nbformat_minor": 2
}
